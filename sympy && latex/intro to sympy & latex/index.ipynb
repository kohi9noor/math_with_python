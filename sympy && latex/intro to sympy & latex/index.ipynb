# Intro to sympy, part 1
# import the sympy package
import sympy as sym

# optional setup for "fancy" printing (used later)
# sym.init_printing()

# import additional functions for nice printing
from IPython.display import display, Math
# create symbolic variables
x,y,z = sym.symbols('x,y,z')

x

# x doesn't have a value; it's just a symbol
x + 4
# for "fancy" printing (note: you need to run this line only once)
sym.init_printing()
x + 4
# more fun...
display( x**y )
display( y/z )
# let's compare with numpy
import numpy as np

display(sym.sqrt(2)) # square root in symbolic math
display(np.sqrt(2)) # square root in numeric/precision math

### Exercises
# 1)
display(y*x**2)

# 2)
display( sym.sqrt(4)*x )

# 3)
display( sym.sqrt(x)*sym.sqrt(x) )
# Intro to Latex
# basic latex coding is easy:
display(Math('4+5=7'))
# special characters are indicated using \\
display(Math('\\sigma = \\mu \\times \\sqrt{5}'))

# outside Python, use one \
display(Math('\\sigma = \\mu \times \\sqrt{5}'))

# subscripts and superscripts
display(Math('x_n + y^m - z^{m+n}'))

# fractions
display(Math('\\frac{1+x}{2e^{\pi}}'))

# right-click to change properties
# regular text requires a special tag
f = 4
display(Math('Set x equal to %g'%f))

display(Math('\\text{Set x equal to %g}'%f))
### Latex code in a markdown cell

Note: this is not for evaluating variables or other numerical code!


$$ \frac{1+\sqrt{2x}}{e^{i\pi}} $$
### Exercises!
# 1) 
display(Math('4x+5y-8z=17'))

# 2) 
display(Math('\\sin(2\\pi f t+\\theta)'))

# 3)
display(Math('e=mc^2'))

# 4)
display(Math('\\frac{4+5x^2}{(1+x)(1-x)}'))
# Intro to sympy, part 2
# using Greek characters as variable names

mu,alpha,sigma = sym.symbols('mu,alpha,sigma')

expr = sym.exp( (mu-alpha)**2/ (2*sigma**2) )

display(expr)

# can also use longer and more informative variable names
hello = sym.symbols('hello')

hello/3

# substituting numbers for variables

# don't forget to define variables before using them!
display(x+4)

(x+4).subs(x,3)
# substituting multiple variables

x,y = sym.symbols('x,y') # can create multiple variables in one line
expr = x+y+5

# substituting one variable
print( expr.subs(x,5) )

# substituting multiple variables
print( expr.subs({x:5,y:4}) )

# using sympy to print latex code
expr = 3/x

print( sym.latex(expr) )

# notice:
print( sym.latex(3/4) )
print( sym.latex('3/4') )
# but
print( sym.latex(sym.sympify('3/4')) )

### Exercise!
for i in range(-2,3):
    ans = (x+4).subs(x,i**2)
    display(Math('\\text{With }x=%g:\; x^2+4 \\quad \\Rightarrow \\quad %g^2+4 =%g' %(i,i,ans)))
